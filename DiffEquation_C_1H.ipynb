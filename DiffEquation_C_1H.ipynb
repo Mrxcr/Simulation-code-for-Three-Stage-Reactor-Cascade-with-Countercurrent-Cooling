{
 "cells": [
  {
   "cell_type": "code",
   "execution_count": null,
   "metadata": {},
   "outputs": [],
   "source": [
    "import numpy as np\n",
    "from scipy.integrate import odeint\n",
    "import plotly.graph_objects as go\n",
    "from plotly.subplots import make_subplots\n",
    "import pandas as pd\n",
    "from sklearn import preprocessing\n",
    "from tqdm import tqdm"
   ]
  },
  {
   "cell_type": "markdown",
   "metadata": {},
   "source": [
    "# COOL – Three-Stage Reactor Cascade with Countercurrent Cooling"
   ]
  },
  {
   "cell_type": "markdown",
   "metadata": {},
   "source": [
    "## Parameters"
   ]
  },
  {
   "cell_type": "code",
   "execution_count": null,
   "metadata": {},
   "outputs": [],
   "source": [
    "N_reactors = 3\n",
    "\n",
    "# Burst duration, s\n",
    "BURST=3000     \n",
    "\n",
    "# Frequency factor, 1/s\n",
    "Z = 2000\n",
    "# Activation energy, kJ/kmol \n",
    "E = 4.23e+4\n",
    "# Gas constant, kJ/kmol K\n",
    "R = 8.290\n",
    "\n",
    "# Inlet feed concentration, kmol/m3\n",
    "C0 = 0.600\n",
    "Tc0 = 298\n",
    "\n",
    "# Flow rate, m3/s\n",
    "F0 = 2.5e-3    \n",
    "# Coolant flow rate, m3/s\n",
    "Fc0 = 2.0e-3\n",
    "# Heat of reaction, kJ/kmol\n",
    "Hr = -1.465e+5\n",
    "# Volume of each reactor, m3\n",
    "V = 0.8\n",
    "# Volume of each jacket, m3\n",
    "V_c = 0.100\n",
    "# Density,kg/m3\n",
    "rho = 1.0e+3\n",
    "# Density of coolant, kg/m3\n",
    "rho_c = 1000# Heat capacity, kJ/kg K\n",
    "c_p = 0.565\n",
    "# Heat capacity of coolant, kJ/kg K\n",
    "c_pc = 4.187\n",
    "\n",
    "# Tc for coolant flow rate\n",
    "# Heat transfer coeff., kJ/m2 s K\n",
    "U = 0.6\n",
    "# Area for heat trarea for hnsfer, m2\n",
    "A = 0.5\n",
    "\n",
    "# Proportional eff FeedBack control of feed flow rate\n",
    "KC = 0.00001\n",
    "# Proportional eff FeedBack control of coolant flow rate\n",
    "KC_C = 0.0001\n",
    "# Setpoint of T[-1]\n",
    "Tset = 330"
   ]
  },
  {
   "cell_type": "code",
   "execution_count": null,
   "metadata": {},
   "outputs": [],
   "source": [
    "n_timestamps = 100000\n",
    "Flag_noise = True\n",
    "np.random.seed(2021)"
   ]
  },
  {
   "cell_type": "markdown",
   "metadata": {},
   "source": [
    "## Generate inputs of system"
   ]
  },
  {
   "cell_type": "code",
   "execution_count": null,
   "metadata": {},
   "outputs": [],
   "source": [
    "def gen_signal(stage, transition_stage, n_timestamps, LB, UB, distribution=\"Uniform\", seed=2021):\n",
    "    '''\n",
    "    Generate stairstep signal with a linear transition\n",
    "    '''\n",
    "    np.random.seed(seed)\n",
    "    F_stage = stage\n",
    "    F_transition_stage = transition_stage\n",
    "    F_comb_num = int(np.ceil(n_timestamps/ (stage + transition_stage)))\n",
    "    \n",
    "    if distribution == \"Uniform\":\n",
    "        value_stage = np.random.uniform(LB, UB, size=(F_comb_num + 1,))\n",
    "    elif distribution == \"Normal\":\n",
    "        value_stage = np.random.normal(LB, UB, size=(F_comb_num + 1,))\n",
    "        \n",
    "    F_ = []\n",
    "    for i in range(F_comb_num):\n",
    "        F_.append(list(np.ones((F_stage, )) * value_stage[i]))\n",
    "        F_.append(list(np.linspace(value_stage[i], value_stage[i + 1], F_transition_stage)))\n",
    "    F_ = [item_ for item in F_ for item_ in item]\n",
    "    return F_[:n_timestamps]      "
   ]
  },
  {
   "cell_type": "code",
   "execution_count": null,
   "metadata": {},
   "outputs": [],
   "source": [
    "# C0\n",
    "C0_1 = gen_signal(700, 300, int(n_timestamps / 3), 0.54, 0.64, seed=2021)\n",
    "C0_2 = gen_signal(700, 300, int(n_timestamps / 3), 0.58, 0.68, seed=2021)\n",
    "C0_3 = gen_signal(700, 300, n_timestamps - int(n_timestamps / 3) - int(n_timestamps / 3), 0.56, 0.68, seed=2021)\n",
    "C0_ = C0_1 + C0_2 + C0_3\n",
    "C0 = np.array(C0_ + [C0_[-1]]).astype(float)\n",
    "\n",
    "# F\n",
    "F_ = gen_signal(500, 30, n_timestamps,  1.8 * 1e-3, 2.9 * 1e-3, seed=2021)\n",
    "F = np.array(F_ + [F_[-1]]).astype(float)\n",
    "\n",
    "# Tset\n",
    "Tset = 330 * np.ones(n_timestamps + 1,)\n",
    "\n",
    "# Tc0\n",
    "Tc0 = np.ones(n_timestamps + 1,) * Tc0\n",
    "\n",
    "# Fc\n",
    "Fc = np.ones(n_timestamps + 1,) * Fc0\n",
    "\n",
    "T_noise_mean = 0\n",
    "T_noise_std = 0.5\n",
    "\n",
    "if Flag_noise:\n",
    "    np.random.seed(2021)\n",
    "    T0_noise = np.random.normal(303.5, 0.1, size=(n_timestamps + 1,)) + 0.8 * np.sin(np.arange(1, n_timestamps + 2) * 2 * np.pi / 720)\n",
    "    Tc0_noise = np.random.normal(295, 0.1, size=(n_timestamps + 1,)) + 0.8 * np.sin(np.arange(1, n_timestamps + 2) * 2 * np.pi / 1440)\n",
    "    \n",
    "    C0_noise = (C0 + np.random.normal(0,0.003, n_timestamps + 1)).astype(float) + 0.005 * np.sin(np.arange(1, n_timestamps + 2) * 2 * np.pi / 480)\n",
    "    Fc_noise = (Fc + np.random.normal(0,0.0001, n_timestamps + 1)).astype(float)\n",
    "    F_noise = (F + np.random.normal(0,0.00002, n_timestamps + 1)).astype(float) + 0.00005 * np.sin(np.arange(1, n_timestamps + 2) * 2 * np.pi / 240)\n",
    "else:\n",
    "    T0_noise, Tc0_noise, C0_noise, Fc_noise, F_noise = 0.8 * np.sin(np.arange(1, n_timestamps + 2) * 2 * np.pi / 720), Tc0, C0, Fc, F"
   ]
  },
  {
   "cell_type": "code",
   "execution_count": null,
   "metadata": {},
   "outputs": [],
   "source": [
    "fig = make_subplots(rows=4, cols=1, vertical_spacing=0.04, shared_xaxes=True)\n",
    "fig.add_trace(go.Scatter(x=[i for i in range(n_timestamps)], y=T0_noise, line_color=\"blue\", showlegend=False), row = 1, col = 1)\n",
    "fig.add_trace(go.Scatter(x=[i for i in range(n_timestamps)], y=Tc0_noise, line_color=\"blue\", showlegend=False), row = 2, col = 1)\n",
    "fig.add_trace(go.Scatter(x=[i for i in range(n_timestamps)], y=C0_noise, line_color=\"blue\", showlegend=False), row = 3, col = 1)\n",
    "fig.add_trace(go.Scatter(x=[i for i in range(n_timestamps)], y=F_noise, line_color=\"blue\", showlegend=False), row = 4, col = 1)\n",
    "fig.update_layout(width=1300, height=800, plot_bgcolor='white'\n",
    "                  , font=dict(size=15\n",
    "                              , family=\"Times New Roman\"\n",
    "                             )\n",
    "                 )\n",
    "fig['layout']['xaxis4']['title']='<b>Time<b>'\n",
    "fig['layout']['yaxis1']['title']= 'T_0_noisy'\n",
    "fig['layout']['yaxis2']['title']= 'T_c0_noisy'\n",
    "fig['layout']['yaxis3']['title']= 'C_0_noisy'\n",
    "fig['layout']['yaxis4']['title']= 'F_noisy'\n",
    "\n",
    "fig.update_xaxes(showline=True, linewidth=2, linecolor='black', gridcolor='black', mirror=True, ticks='outside')\n",
    "fig.update_yaxes(showline=True, linewidth=2, linecolor='black', gridcolor='black', mirror=True, ticks='outside')\n",
    "fig.show()"
   ]
  },
  {
   "cell_type": "markdown",
   "metadata": {},
   "source": [
    "## Simulation"
   ]
  },
  {
   "cell_type": "code",
   "execution_count": null,
   "metadata": {
    "tags": []
   },
   "outputs": [],
   "source": [
    "def DiffEquations_Cool(Vars, t, N_reactors, F, Fc, T0, Tc0, C0):\n",
    "    '''\n",
    "    First-principles model of the system\n",
    "    '''\n",
    "    C = Vars[:N_reactors]\n",
    "    T = Vars[N_reactors: N_reactors * 2]\n",
    "    Tc = Vars[N_reactors * 2: N_reactors * 3]\n",
    "\n",
    "    k = Z * np.exp(-E / (R * T))\n",
    "\n",
    "    # The first reactor\n",
    "    dC0dt = (F * (C0 - C[0]) - V * k[0] * C[0]) / V\n",
    "    dT0dt = (F * rho * c_p * (T0 - T[0]) - V * k[0] * C[0] * Hr - U * A * (T[0] - Tc[-1])) / (rho * c_p * V)\n",
    "    \n",
    "    # Middle Reactors\n",
    "    dCmid_dt = (F * (C[0:-2] - C[1:-1]) - V * k[1:-1] * C[1:-1]) / V\n",
    "    dTmid_dt = (F * rho * c_p * (T[0:-2] - T[1:-1]) - V * k[1:-1] * C[1:-1] * Hr - U * A * (T[1:-1] - Tc[-2:0:-1])) / (rho * c_p * V)\n",
    "    \n",
    "    # The last reactors\n",
    "    dClast_dt = (F * (C[-2] - C[-1]) - V * k[-1] * C[-1]) / V\n",
    "    dTlast_dt = (F * rho * c_p * (T[-2] - T[-1]) - V * k[-1] * C[-1] * Hr - U * A * (T[-1] - Tc[0])) / (rho * c_p * V)\n",
    "    \n",
    "    # Tc in inverse order\n",
    "    dTc0dt = (Fc * rho_c * c_pc * (Tc0 - Tc[0]) + U * A * (T[-1] - Tc[0])) / (rho_c * c_pc * V_c)\n",
    "    dTcmid_dt = (Fc * rho_c * c_pc * (Tc[0:-2] - Tc[1:-1]) + U * A * (T[-2:0:-1] - Tc[1:-1])) / (rho_c * c_pc * V_c)\n",
    "    dTclast_dt = (Fc * rho_c * c_pc * (Tc[-2] - Tc[-1]) + U * A * (T[0] - Tc[-1])) / (rho_c * c_pc * V_c)\n",
    "\n",
    "    dydt = np.concatenate([np.array([dC0dt]), dCmid_dt, np.array([dClast_dt]), np.array([dT0dt]), dTmid_dt, np.array([dTlast_dt])\n",
    "    , np.array([dTc0dt]), dTcmid_dt, np.array([dTclast_dt])])\n",
    "    return dydt"
   ]
  },
  {
   "cell_type": "code",
   "execution_count": null,
   "metadata": {},
   "outputs": [],
   "source": [
    "t = np.linspace(0, 60, 60 + 1)\n",
    "initial_values = np.array([0.6,0.6,0.6,300.,310.,330.,298.,298.,298.])\n",
    "Flag_Tc_F=True\n",
    "Flag_Tc_C=False\n",
    "arr_y = np.zeros((n_timestamps + 1, 9))\n",
    "arr_y[0, :] = [0.6,0.6,0.6,300.,310.,340.,298.,298.,298.]\n",
    "list_F = [F0]\n",
    "list_Fc = [Fc0]\n",
    "list_C0 = [C0[0]]\n",
    "\n",
    "SE = 0\n",
    "F__, Fc__, T0__, Tc0__, C0__ = F0, 2.0e-3, T0_noise[0], Tc0[0], C0[0]\n",
    "for i in tqdm(range(n_timestamps)):\n",
    "    y = odeint(DiffEquations_Cool, initial_values, t, args=(N_reactors, F__, Fc__, T0__, Tc0__, C0__))\n",
    "    arr_y[i + 1, :] = y[-1, :]\n",
    "    T__ = y[-1, 3:6]\n",
    "    \n",
    "    initial_values = y[-1, :]\n",
    "    T0__, Tc0__, C0__ = T0_noise[i + 1], Tc0_noise[i + 1], C0_noise[i + 1]\n",
    "    \n",
    "    # A simple controller\n",
    "    Tset_ = Tset[i + 1]\n",
    "    SE += Tset_ - T__[-1]\n",
    "    F__ = F_noise[i + 1]\n",
    "    Fc__ = Fc0 - (0.00005 * (Tset_ - T__[-1]) +  0.0000005 * SE)   \n",
    "\n",
    "    # Add limit to flowrate of feed flow and coolant flow\n",
    "    F__ = 0 if F__ < 0 else F__\n",
    "    Fc__ = 0 if Fc__ < 0 else Fc__\n",
    "\n",
    "    list_F.append(F__)\n",
    "    list_Fc.append(Fc__)\n",
    "    list_C0.append(C0__)"
   ]
  },
  {
   "cell_type": "code",
   "execution_count": null,
   "metadata": {},
   "outputs": [],
   "source": [
    "t = np.linspace(0, n_timestamps, n_timestamps + 1)\n",
    "fig = make_subplots(rows=5, cols=1, shared_xaxes=True, vertical_spacing=0.05\n",
    "                    , subplot_titles=[\"Noise-free Concentration of Reactors\", \"Noise-free Reactors Temperatures\"\n",
    "                                        , \"Noise-free Coolwater temperatures\", \"F\", \"Fc\", \"C0\"])\n",
    "for i in range(3):\n",
    "    fig.add_trace(go.Scatter(x = t, y = arr_y[:, i], name=f\"C[{i+1}]\"), row=1, col=1)\n",
    "for i in range(3):\n",
    "    fig.add_trace(go.Scatter(x = t, y = arr_y[:, i + 3], name=f\"T[{i+1}]\"), row=2, col=1)    \n",
    "for i in range(3):\n",
    "    fig.add_trace(go.Scatter(x = t, y = arr_y[:, i + 6], name=f\"Tc[{i+1}]\"), row=3, col=1)    \n",
    "fig.add_trace(go.Scatter(x=t, y=list_F), row = 4, col = 1)\n",
    "fig.add_trace(go.Scatter(x=t, y=list_Fc), row = 5, col = 1)    \n",
    "fig.add_trace(go.Scatter(x=t, y=list_C0), row = 1, col = 1)  \n",
    "fig.add_trace(go.Scatter(x=t, y=Tset), row = 2, col = 1)  \n",
    "fig.update_layout(width=1300, height=800, plot_bgcolor='white'\n",
    "                  , font=dict(size=15\n",
    "                              , family=\"Times New Roman\"\n",
    "                             )\n",
    "                 )\n",
    "fig.update_xaxes(showline=True, linewidth=2, linecolor='black', gridcolor='black', mirror=True, ticks='outside')\n",
    "fig.update_yaxes(showline=True, linewidth=2, linecolor='black', gridcolor='black', mirror=True, ticks='outside')\n",
    "fig.show()"
   ]
  },
  {
   "cell_type": "markdown",
   "metadata": {},
   "source": [
    "## Add noise to ***C***,***T***,***Tc***"
   ]
  },
  {
   "cell_type": "code",
   "execution_count": null,
   "metadata": {},
   "outputs": [],
   "source": [
    "if Flag_noise:\n",
    "    y_noise = arr_y.copy()\n",
    "    y_noise[:, :3] = y_noise[:, :3] + np.random.normal(0,0.001,(n_timestamps + 1, 3))\n",
    "    y_noise[:, 3:6] = y_noise[:, 3:6] + np.random.normal(0,0.5,(n_timestamps + 1, 3))\n",
    "    y_noise[:, 6:9] = y_noise[:, 6:9] + np.random.normal(0,0.5,(n_timestamps + 1, 3))\n",
    "else:\n",
    "    y_noise = arr_y.copy()\n",
    "    \n",
    "arr_F = np.array(list_F)\n",
    "arr_Fc = np.array(list_Fc)    "
   ]
  },
  {
   "cell_type": "code",
   "execution_count": null,
   "metadata": {},
   "outputs": [],
   "source": [
    "fig = make_subplots(rows=3, cols=1, shared_xaxes=True, vertical_spacing=0.04)\n",
    "\n",
    "list_color = [\"blue\", \"red\", \"green\"]\n",
    "list_C = [r\"$C_{1}$\",r\"$C_{2}$\",r\"$C_{3}$\"]\n",
    "list_T = [r\"$T_{1}$\",r\"$T_{2}$\",r\"$T_{3}$\"]\n",
    "list_Tc = [r\"$T_{c1}$\",r\"$T_{c2}$\",r\"$T_{c3}$\"]\n",
    "\n",
    "for i in range(3):\n",
    "    fig.add_trace(go.Scatter(x = t, y = y_noise[:, i], name=list_C[i], line_color=list_color[i], legendgroup=\"1\"\n",
    "                            ), row=1, col=1)\n",
    "for i in range(3):\n",
    "    fig.add_trace(go.Scatter(x = t, y = y_noise[:, i + 3], name=list_T[i], line_color=list_color[i], legendgroup=\"2\"\n",
    "                            ), row=2, col=1)    \n",
    "for i in range(3):\n",
    "    fig.add_trace(go.Scatter(x = t, y = y_noise[:, i + 6], name=list_Tc[i], line_color=list_color[i], legendgroup=\"3\"\n",
    "                            ), row=3, col=1)    \n",
    "fig.update_layout(width=1300, height=800, plot_bgcolor='white'\n",
    "                  , font=dict(size=15\n",
    "                              , family=\"Times New Roman\"\n",
    "                             )\n",
    "                 )\n",
    "fig['layout']['xaxis3']['title']= '<b>Time<b>'\n",
    "fig['layout']['yaxis1']['title']= '<b>Noisy Concentrations<b>'\n",
    "fig['layout']['yaxis2']['title']= '<b>Noisy reactor<br>temperatures<b>'\n",
    "fig['layout']['yaxis3']['title']= '<b>Noisy cooling water<br>temperature<b>'\n",
    "\n",
    "fig.update_layout(legend=dict(yanchor=\"top\", xanchor=\"left\",y=1,x=1.001,tracegroupgap=160,bgcolor=\"white\"))\n",
    "\n",
    "fig.update_xaxes(showline=True, linewidth=2, linecolor='black', gridcolor='gray', mirror=True, ticks='outside')\n",
    "fig.update_yaxes(showline=True, linewidth=2, linecolor='black', gridcolor='gray', mirror=True, ticks='outside')\n",
    "# fig.write_image(\"HTML/20220310_30min_1minTesting/Gen_signal/Output.png\")\n",
    "fig.show()"
   ]
  },
  {
   "cell_type": "markdown",
   "metadata": {},
   "source": [
    "# Construct input and output dataset"
   ]
  },
  {
   "cell_type": "code",
   "execution_count": null,
   "metadata": {},
   "outputs": [],
   "source": [
    "idx_start = 200\n",
    "t_sel = [i for i in range(len(t) - idx_start)]\n",
    "y_sel = y_noise[idx_start:]\n",
    "T0_noise_sel = T0_noise[idx_start:]\n",
    "Tc0_noise_sel = Tc0_noise[idx_start:]\n",
    "F_noise_sel = F_noise[idx_start:]\n",
    "Fc_noise_sel = Fc_noise[idx_start:]\n",
    "C0_noise_sel = C0_noise[idx_start:]\n",
    "Tset_sel = Tset[idx_start:]"
   ]
  },
  {
   "cell_type": "code",
   "execution_count": null,
   "metadata": {},
   "outputs": [],
   "source": [
    "df_input = pd.DataFrame(index = t_sel, columns = [\"F\", \"Fc\", \"T1\", \"T2\", \"T3\", \"Tc1\", \"Tc2\", \"Tc3\", \"T0\", \"Tc0\", \"C0\", \"Tset\"])\n",
    "df_input[\"F\"] = F_noise_sel.reshape(-1, 1)\n",
    "df_input[\"Fc\"] = Fc_noise_sel.reshape(-1, 1)\n",
    "df_input[\"T0\"] = T0_noise_sel.reshape(-1, 1)\n",
    "df_input[\"Tc0\"] = Tc0_noise_sel.reshape(-1, 1)\n",
    "df_input[\"C0\"] = C0_noise_sel.reshape(-1, 1)\n",
    "df_input[[\"T1\", \"T2\", \"T3\"]] = y_sel[:, 3:6]\n",
    "df_input[[\"Tc1\", \"Tc2\", \"Tc3\"]] = y_sel[:, 6:9]\n",
    "df_input[\"Tset\"] = Tset_sel.reshape(-1, 1)"
   ]
  },
  {
   "cell_type": "code",
   "execution_count": null,
   "metadata": {},
   "outputs": [],
   "source": [
    "# Get a C for every hour\n",
    "C_rate = 60\n",
    "idx_C = [i * C_rate for i in range(1, int(len(t_sel) / C_rate))]\n",
    "df_output = pd.DataFrame(index = idx_C, columns = [\"C1\", \"C2\", \"C3\"])\n",
    "df_output[[\"C1\", \"C2\", \"C3\"]] = y_sel[idx_C, 0:3]"
   ]
  },
  {
   "cell_type": "code",
   "execution_count": null,
   "metadata": {},
   "outputs": [],
   "source": [
    "# Normalization\n",
    "scaler_input = preprocessing.MinMaxScaler().fit(df_input)\n",
    "df_input_scale = pd.DataFrame(columns=df_input.columns, index=df_input.index)\n",
    "df_input_scale.iloc[:, :] = scaler_input.transform(df_input)\n",
    "\n",
    "scaler_output = preprocessing.MinMaxScaler().fit(df_output)\n",
    "df_output_scale = pd.DataFrame(columns=df_output.columns, index=df_output.index)\n",
    "df_output_scale.iloc[:, :] = scaler_output.transform(df_output)"
   ]
  },
  {
   "cell_type": "code",
   "execution_count": null,
   "metadata": {},
   "outputs": [],
   "source": [
    "fig = make_subplots(rows=3, cols=1, shared_xaxes=True, vertical_spacing=0.04)\n",
    "list_color = [\"blue\", \"red\", \"green\"]\n",
    "for i in range(3):\n",
    "    fig.add_trace(go.Scatter(x = [i for i in range(df_output.shape[0])], y = df_output.iloc[:, i]\n",
    "                             , line_color=list_color[i], legendgroup=f\"{i+1}\", name=list_C[i], showlegend=False\n",
    "                            ), row=i+1, col=1)\n",
    "    \n",
    "fig['layout']['xaxis3']['title']= '<b>Time<b>'\n",
    "fig['layout']['yaxis1']['title']= r'$\\text {Sampled  } C_{1}$'\n",
    "fig['layout']['yaxis2']['title']= r'$\\text {Sampled  } C_{2}$'\n",
    "fig['layout']['yaxis3']['title']= r'$\\text {Sampled  } C_{3}$'\n",
    "\n",
    "fig.update_layout(width=1300, height=800, plot_bgcolor='white'\n",
    "                  , font=dict(size=15\n",
    "                              , family=\"Times New Roman\"\n",
    "                             )\n",
    "                 )\n",
    "fig.update_layout(legend=dict(yanchor=\"top\", xanchor=\"left\",y=1,x=1.001,tracegroupgap=200,bgcolor=\"white\"))\n",
    "\n",
    "fig.update_xaxes(showline=True, linewidth=2, linecolor='black', gridcolor='gray', mirror=True, ticks='outside')\n",
    "fig.update_yaxes(showline=True, linewidth=2, linecolor='black', gridcolor='gray', mirror=True, ticks='outside')\n",
    "# fig.write_image(\"HTML/20220310_30min_1minTesting/Gen_signal/Sampled_Output.png\")\n",
    "fig.show()"
   ]
  },
  {
   "cell_type": "markdown",
   "metadata": {
    "tags": []
   },
   "source": [
    "## sample rate 1min "
   ]
  },
  {
   "cell_type": "code",
   "execution_count": null,
   "metadata": {},
   "outputs": [],
   "source": [
    "df_output_1min = pd.DataFrame(index = [i for i in range(y_sel.shape[0])], columns = [\"C1\", \"C2\", \"C3\"])\n",
    "df_output_1min[[\"C1\", \"C2\", \"C3\"]] = y_sel[:, 0:3]"
   ]
  },
  {
   "cell_type": "code",
   "execution_count": null,
   "metadata": {},
   "outputs": [],
   "source": [
    "# scaler_output_1min = preprocessing.MinMaxScaler().fit(df_output_1min)\n",
    "df_output_1min_scale = pd.DataFrame(columns=df_output_1min.columns, index=df_output_1min.index)\n",
    "df_output_1min_scale.iloc[:, :] = scaler_output.transform(df_output_1min)"
   ]
  },
  {
   "cell_type": "code",
   "execution_count": null,
   "metadata": {},
   "outputs": [],
   "source": [
    "df_data = pd.concat([df_input, df_output_1min], axis=1)\n",
    "df_data.to_csv(\"dataset.csv\")"
   ]
  },
  {
   "cell_type": "code",
   "execution_count": null,
   "metadata": {},
   "outputs": [],
   "source": []
  }
 ],
 "metadata": {
  "interpreter": {
   "hash": "3bd4f1277dc983375ef0c5b57d84cad44131ba98f0b6d97c5ce6e0603e5f9e1b"
  },
  "kernelspec": {
   "display_name": "Python 3 (ipykernel)",
   "language": "python",
   "name": "python3"
  },
  "language_info": {
   "codemirror_mode": {
    "name": "ipython",
    "version": 3
   },
   "file_extension": ".py",
   "mimetype": "text/x-python",
   "name": "python",
   "nbconvert_exporter": "python",
   "pygments_lexer": "ipython3",
   "version": "3.9.5"
  },
  "toc-autonumbering": true,
  "toc-showtags": false
 },
 "nbformat": 4,
 "nbformat_minor": 4
}
